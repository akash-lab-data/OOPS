{
  "nbformat": 4,
  "nbformat_minor": 0,
  "metadata": {
    "colab": {
      "provenance": []
    },
    "kernelspec": {
      "name": "python3",
      "display_name": "Python 3"
    },
    "language_info": {
      "name": "python"
    }
  },
  "cells": [
    {
      "cell_type": "markdown",
      "source": [
        "# OOPS\n",
        "1. What is Object-Oriented Programming (OOP)?\n",
        "- Obeject oriented programming (OOP) is a paramidgm that organise software design object rather than functions and logic.\n",
        "- Object are real world entities that contain data(attributes) and behavior(method).\n",
        "- OOP made code modular, reusable, easier to maintain.\n",
        "Example:"
      ],
      "metadata": {
        "id": "OtIdy2CmJ0Xl"
      }
    },
    {
      "cell_type": "code",
      "source": [
        "class Car:\n",
        "  def __init__(self, brand, modal):\n",
        "    self.brand = brand    #attributes\n",
        "    self.modal = modal    #attributes\n",
        "\n",
        "  def drive(self):        #method\n",
        "    return f\"{self.brand} {self.modal} is driving.\"\n",
        "\n",
        "#creating an object\n",
        "car = Car(\"TATA\", \"Nexon\")\n",
        "print(car.drive())"
      ],
      "metadata": {
        "colab": {
          "base_uri": "https://localhost:8080/"
        },
        "id": "teP7bw0JPPQi",
        "outputId": "5cc3bf4f-359c-4163-90be-2376c10169d1"
      },
      "execution_count": null,
      "outputs": [
        {
          "output_type": "stream",
          "name": "stdout",
          "text": [
            "TATA Nexon is driving.\n"
          ]
        }
      ]
    },
    {
      "cell_type": "markdown",
      "source": [
        "2. What is a class in OOP?\n",
        "- A class is a blueprint or template for crating objects.\n",
        "- It defines attributes and methods.\n"
      ],
      "metadata": {
        "id": "kxKR8ohgRdly"
      }
    },
    {
      "cell_type": "code",
      "source": [
        "#Defining a class:\n",
        "class Dog:\n",
        "  def __init__(self, name, breed):         #constructer\n",
        "    self.name = name                       #attributes\n",
        "    self.breed = breed                     #attributes\n",
        "\n",
        "  def bark(self):                          #method\n",
        "    return f\"{self.name} is barking.\"\n",
        "\n",
        "#Creating object from class\n",
        "\n",
        "dog = Dog(\"Kalu\", \"Labrador\")\n",
        "print(dog.bark())"
      ],
      "metadata": {
        "colab": {
          "base_uri": "https://localhost:8080/"
        },
        "id": "_08cFVDEQpsw",
        "outputId": "c79ac558-1c20-4f97-cbb9-9196ecff55ec"
      },
      "execution_count": null,
      "outputs": [
        {
          "output_type": "stream",
          "name": "stdout",
          "text": [
            "Kalu is barking.\n"
          ]
        }
      ]
    },
    {
      "cell_type": "markdown",
      "source": [
        "3. What is an object in OOP?\n",
        "- Object are instance of a class.\n",
        "- If class is a blueprint, Object is the actual thing built from the blue print.\n",
        "- Object contains attributes and method.\n",
        "- Each object can hold its own data, even if created from the same class.\n",
        "- Example:"
      ],
      "metadata": {
        "id": "ofwWa9UZUVhl"
      }
    },
    {
      "cell_type": "code",
      "source": [
        "#Creates an object\n",
        "dog1 = Dog(\"Sherru\", \"German Shepherd\")\n",
        "print(dog1.bark())"
      ],
      "metadata": {
        "colab": {
          "base_uri": "https://localhost:8080/"
        },
        "id": "VDniGPN8T8df",
        "outputId": "7824f338-a26f-4284-d7cc-2f82814fde62"
      },
      "execution_count": null,
      "outputs": [
        {
          "output_type": "stream",
          "name": "stdout",
          "text": [
            "Sherru is barking.\n"
          ]
        }
      ]
    },
    {
      "cell_type": "markdown",
      "source": [
        "4. What is the difference between abstraction and encapsulation?"
      ],
      "metadata": {
        "id": "ihfDx19UW2Df"
      }
    },
    {
      "cell_type": "markdown",
      "source": [
        "| Feature                  | **Abstraction**                                                                  | **Encapsulation**                                                                                  |\n",
        "| ------------------------ | -------------------------------------------------------------------------------- | -------------------------------------------------------------------------------------------------- |\n",
        "| **Definition**           | Hiding **implementation details** and showing only essential features.           | Wrapping (bundling) **data (variables)** and **methods (functions)** into a single unit (class).   |\n",
        "| **Focus**                | Focuses on **what** an object does.                                              | Focuses on **how** data is hidden and controlled.                                                  |\n",
        "| **Achieved by**          | Abstract classes, Interfaces, Methods.                                           | Access modifiers (private, protected, public) and getters/setters.                                 |\n",
        "| **Purpose**              | To **design a clear interface** for the user.                                    | To **restrict direct access** to data and protect it.                                              |\n",
        "| **Example in real life** | Driving a car: you use the steering and pedals without knowing engine mechanics. | Car engine is hidden inside the bonnet so that only car methods (accelerate, brake) can access it. |\n"
      ],
      "metadata": {
        "id": "SjGEbaFsXTvR"
      }
    },
    {
      "cell_type": "markdown",
      "source": [
        "- Abstraction: Hiding complex logic from user and only provide essential method."
      ],
      "metadata": {
        "id": "AsJAGDf5XaLK"
      }
    },
    {
      "cell_type": "code",
      "source": [
        "from abc import ABC, abstractmethod\n",
        "\n",
        "class Vehicle(ABC):\n",
        "  @abstractmethod\n",
        "  def start(self):\n",
        "    pass\n",
        "\n",
        "class Car(Vehicle):\n",
        "  def start(self):\n",
        "    return \"Car engine started.\"\n",
        "\n",
        "class Bike(Vehicle):\n",
        "  def start(self):\n",
        "    return \"Bike engine started.\"\n",
        "\n",
        "\n",
        "# User doen't care about implementation of code.\n",
        "vehicles = [Car(), Bike()]\n",
        "for v in vehicles:\n",
        "  print(v.start())"
      ],
      "metadata": {
        "colab": {
          "base_uri": "https://localhost:8080/"
        },
        "id": "MCFzrMctT06Z",
        "outputId": "991c1336-4bbd-439e-ddd1-f5532e4dc7f7"
      },
      "execution_count": null,
      "outputs": [
        {
          "output_type": "stream",
          "name": "stdout",
          "text": [
            "Car engine started.\n",
            "Bike engine started.\n"
          ]
        }
      ]
    },
    {
      "cell_type": "markdown",
      "source": [
        "- Encapsulation:\n",
        "- We use private attributes `(__variable)` and getter/ setter method for access the code.\n",
        "- In encapsulation we makeke private attributes by starting the variable with double undersore(__)\n"
      ],
      "metadata": {
        "id": "jtVVUHxtWLqM"
      }
    },
    {
      "cell_type": "code",
      "source": [
        "class BankAccount:\n",
        "  def __init__(self, balance):\n",
        "    self.__balance = balance       #private attributes\n",
        "\n",
        "  def deposit(self, amount):\n",
        "    self.__balance += amount       #controlled access\n",
        "\n",
        "  def get_balance(self):           #getter\n",
        "    return self.__balance\n",
        "\n",
        "\n",
        "acc = BankAccount(1000)\n",
        "acc.deposit(900)\n",
        "print(acc.get_balance())"
      ],
      "metadata": {
        "colab": {
          "base_uri": "https://localhost:8080/"
        },
        "id": "pDl6ADXsWQZT",
        "outputId": "d6175edd-3737-4ce1-c1ff-0cddd648c534"
      },
      "execution_count": null,
      "outputs": [
        {
          "output_type": "stream",
          "name": "stdout",
          "text": [
            "1900\n"
          ]
        }
      ]
    },
    {
      "cell_type": "markdown",
      "source": [
        "- Here, the balace cannot access directy `acc.__balance` give an Error."
      ],
      "metadata": {
        "id": "tYzp6MbbZzyN"
      }
    },
    {
      "cell_type": "code",
      "source": [
        "acc.__balance"
      ],
      "metadata": {
        "colab": {
          "base_uri": "https://localhost:8080/",
          "height": 141
        },
        "id": "TpVRaXEKaLSw",
        "outputId": "69130c68-7163-45f2-bd31-9d311b616bfe"
      },
      "execution_count": null,
      "outputs": [
        {
          "output_type": "error",
          "ename": "AttributeError",
          "evalue": "'BankAccount' object has no attribute '__balance'",
          "traceback": [
            "\u001b[0;31m---------------------------------------------------------------------------\u001b[0m",
            "\u001b[0;31mAttributeError\u001b[0m                            Traceback (most recent call last)",
            "\u001b[0;32m/tmp/ipython-input-2638773036.py\u001b[0m in \u001b[0;36m<cell line: 0>\u001b[0;34m()\u001b[0m\n\u001b[0;32m----> 1\u001b[0;31m \u001b[0macc\u001b[0m\u001b[0;34m.\u001b[0m\u001b[0m__balance\u001b[0m\u001b[0;34m\u001b[0m\u001b[0;34m\u001b[0m\u001b[0m\n\u001b[0m",
            "\u001b[0;31mAttributeError\u001b[0m: 'BankAccount' object has no attribute '__balance'"
          ]
        }
      ]
    },
    {
      "cell_type": "markdown",
      "source": [
        "5. What are dunder methods in Python?\n",
        "- Dunder = double underscore `(__init__ ,__str__)`.\n",
        "- They are also called magic metod or special method.\n",
        "- Python uses them internal to perform built-in operation.\n",
        "- Override them in own class to coustmize the behaviour.\n",
        "- Some common dunder methods :"
      ],
      "metadata": {
        "id": "-YUo8tkzbyGz"
      }
    },
    {
      "cell_type": "markdown",
      "source": [
        "| Dunder Method | Purpose                                     | Example           |\n",
        "| ------------- | ------------------------------------------- | ----------------- |\n",
        "| `__init__`    | Constructor, initializes objects.           | `obj = MyClass()` |\n",
        "| `__str__`     | String representation for users (print).    | `print(obj)`      |\n",
        "| `__repr__`    | Official representation for developers.     | `repr(obj)`       |\n",
        "| `__len__`     | Defines behavior of `len(obj)`.             | `len(obj)`        |\n",
        "| `__add__`     | Defines behavior of `+`.                    | `obj1 + obj2`     |\n",
        "| `__eq__`      | Defines behavior of `==`.                   | `obj1 == obj2`    |\n",
        "| `__del__`     | Destructor (called when object is deleted). | `del obj`         |\n",
        "| `__call__`    | Makes an object callable like a function.   | `obj()`           |\n",
        "\n"
      ],
      "metadata": {
        "id": "79zZdU1lfbZG"
      }
    },
    {
      "cell_type": "code",
      "source": [
        "class Book:\n",
        "  def __init__(self, title, pages):\n",
        "    self.title = title\n",
        "    self.pages = pages\n",
        "\n",
        "  def __str__(self):           #user-friendly\n",
        "    return f\"Book: {self.title}\"\n",
        "\n",
        "  def __repr__(self):               #devopler-friendly\n",
        "    return f\"Book('{self.title}', {self.pages})\"\n",
        "\n",
        "  def __len__(self):\n",
        "    return self.pages\n",
        "\n",
        "  def __add__(self, other):          #allows book1 + book2\n",
        "    return self.pages + other.pages\n",
        "\n",
        "\n",
        "#Creates object for class\n",
        "\n",
        "book1 = Book(\"Python Basics\", 200)\n",
        "book2 = Book(\"Python Advance\", 290)\n",
        "\n",
        "\n",
        "print(str(book1))\n",
        "print(repr(book2))\n",
        "print(len(book1))\n",
        "print(book1 + book2)"
      ],
      "metadata": {
        "colab": {
          "base_uri": "https://localhost:8080/"
        },
        "id": "u5ajdxvDfqrn",
        "outputId": "c0d3ae0e-fc19-43b7-bf60-5c42d709e413"
      },
      "execution_count": null,
      "outputs": [
        {
          "output_type": "stream",
          "name": "stdout",
          "text": [
            "Book: Python Basics\n",
            "Book('Python Advance', 290)\n",
            "200\n",
            "490\n"
          ]
        }
      ]
    },
    {
      "cell_type": "markdown",
      "source": [
        "6. Explain the concept of inheritance in OOP?\n",
        "- Inheritace allows a class(child/subclass) to inherit the propeties and method of another class(parent/super class).\n",
        "- Promotes code reusablity.\n",
        "- The child class add new features or overrides parent class's features"
      ],
      "metadata": {
        "id": "t8CZFkOdkC4-"
      }
    },
    {
      "cell_type": "markdown",
      "source": [
        "✅ Types of Inheritance in Python\n",
        "- **Single Inheritance** = one child class inherits properties from single parent class.\n",
        "- **Multilevel Inheritance** = grandchild class inherits properties from child class, this  child class inherts properties from a parent class.  \n",
        "- **Multiple Inheritance** = one child class inherits properties from multiple parent class.\n",
        "- **Hierarchical Inheritance** = Multiple child classes inherts properties from single parent class.\n",
        "- **Hybrid Inheritace** = A combination of two or more inheritance in a single class hiearchy."
      ],
      "metadata": {
        "id": "3Bbm7gDimJ_n"
      }
    },
    {
      "cell_type": "markdown",
      "source": [
        "✅Example : Single Inheritance"
      ],
      "metadata": {
        "id": "uqLm99TSp5bh"
      }
    },
    {
      "cell_type": "code",
      "source": [
        "class Animal:\n",
        "  def sound(self):\n",
        "    return \"Some generic sound.\"\n",
        "class Dog(Animal):                #Dog inherits from Animal\n",
        "  def sound(self):                #Method overriding\n",
        "    return \"Bark\"\n",
        "\n",
        "dog = Dog()\n",
        "print(dog.sound())"
      ],
      "metadata": {
        "colab": {
          "base_uri": "https://localhost:8080/"
        },
        "id": "0vY8SCDckB6u",
        "outputId": "3e505b0a-7705-4499-8627-315520235c20"
      },
      "execution_count": null,
      "outputs": [
        {
          "output_type": "stream",
          "name": "stdout",
          "text": [
            "Bark\n"
          ]
        }
      ]
    },
    {
      "cell_type": "markdown",
      "source": [
        "✅Example : Multilevel Inheritance"
      ],
      "metadata": {
        "id": "UHkqEtnkrJxa"
      }
    },
    {
      "cell_type": "code",
      "source": [
        "class Animal:\n",
        "    def breathe(self):\n",
        "        return \"Breathing\"\n",
        "\n",
        "class Mammal(Animal):\n",
        "    def has_hair(self):\n",
        "        return True\n",
        "\n",
        "class Dog(Mammal):\n",
        "    def sound(self):\n",
        "        return \"Bark\"\n",
        "\n",
        "d = Dog()\n",
        "print(d.breathe())   # Inherited from Animal\n",
        "print(d.has_hair())  # Inherited from Mammal\n",
        "print(d.sound())     # Defined in Dog\n"
      ],
      "metadata": {
        "colab": {
          "base_uri": "https://localhost:8080/"
        },
        "id": "ha9xsKBwrX1b",
        "outputId": "99d38477-ffeb-481b-88f1-c23a018f4c38"
      },
      "execution_count": null,
      "outputs": [
        {
          "output_type": "stream",
          "name": "stdout",
          "text": [
            "Breathing\n",
            "True\n",
            "Bark\n"
          ]
        }
      ]
    },
    {
      "cell_type": "markdown",
      "source": [
        "✅ Example: Multiple Inheritance"
      ],
      "metadata": {
        "id": "qbToFX_ix3TY"
      }
    },
    {
      "cell_type": "code",
      "source": [
        "class Father:\n",
        "    def skill(self):\n",
        "        return \"Gardening\"\n",
        "\n",
        "class Mother:\n",
        "    def skill(self):\n",
        "        return \"Cooking\"\n",
        "\n",
        "class Child(Father, Mother):  # inherits both\n",
        "    pass\n",
        "\n",
        "c = Child()\n",
        "print(c.skill())\n"
      ],
      "metadata": {
        "colab": {
          "base_uri": "https://localhost:8080/"
        },
        "id": "NUQNKkOExt94",
        "outputId": "eb02839f-b2dd-4051-d0c6-d305b3accbfb"
      },
      "execution_count": null,
      "outputs": [
        {
          "output_type": "stream",
          "name": "stdout",
          "text": [
            "Gardening\n"
          ]
        }
      ]
    },
    {
      "cell_type": "markdown",
      "source": [
        "7. What is polymorphism in OOP?\n",
        "- Polymorphism means \"many forms\".\n",
        "- It allows to method name to have different behaviours depending apon the object calls it.\n"
      ],
      "metadata": {
        "id": "PTLBs5TFyW6w"
      }
    },
    {
      "cell_type": "markdown",
      "source": [
        "✅ Types of Polymorphism:\n",
        "- **Method Overloading** = Same method name but different parameters (Not truely spported by python, achived by default arguments).\n",
        "- **Method Overriding** = Child class provideed new implementation of method which is defined in parent class."
      ],
      "metadata": {
        "id": "GFrLIvyT0i5V"
      }
    },
    {
      "cell_type": "markdown",
      "source": [
        "Example of Polymorphism (overriding method)"
      ],
      "metadata": {
        "id": "unQrt9RG16yP"
      }
    },
    {
      "cell_type": "code",
      "source": [
        "class Animal:\n",
        "  def sound(self):\n",
        "    return \"Some generic sound.\"\n",
        "class Dog(Animal):\n",
        "  def sound(self):\n",
        "    return \"Bark\"\n",
        "class Cat(Animal):\n",
        "  def sound(self):\n",
        "    return \"Meow\"\n",
        "\n",
        "#Polymorphism in action\n",
        "animals =[Dog(), Cat()]\n",
        "for a in animals:\n",
        "  print(a.sound())"
      ],
      "metadata": {
        "colab": {
          "base_uri": "https://localhost:8080/"
        },
        "id": "4mkzYj_k2IOp",
        "outputId": "76d89aee-4310-4bfd-d41c-c6b9bae32541"
      },
      "execution_count": null,
      "outputs": [
        {
          "output_type": "stream",
          "name": "stdout",
          "text": [
            "Bark\n",
            "Meow\n"
          ]
        }
      ]
    },
    {
      "cell_type": "markdown",
      "source": [
        "Here, same method `sound()` behaves differently depending upon the object."
      ],
      "metadata": {
        "id": "dFvUjGGT3SW6"
      }
    },
    {
      "cell_type": "markdown",
      "source": [
        "8. How is encapsulation achieved in Python?\n",
        "- In python , achive encapsulation by naming conventions.\n",
        "- **Public members** = Accessible anywhere `(variable)`.\n",
        "\n",
        "- **Protected members** = Indicated with a single underscore `(_variable)`. (Convention: should not be accessed directly outside the class.)\n",
        "\n",
        "- **Private members** = Indicated with double underscores `(__variable)`. Name mangling makes them hard to access directly.\n",
        "\n",
        "- Example of Public, Protected, Private Members :"
      ],
      "metadata": {
        "id": "s5gei2uu3ozc"
      }
    },
    {
      "cell_type": "code",
      "source": [
        "class Employee:\n",
        "    def __init__(self, name, salary):\n",
        "        self.name = name            # Public\n",
        "        self._department = \"HR\"     # Protected\n",
        "        self.__salary = salary      # Private\n",
        "\n",
        "    # Getter (access private data safely)\n",
        "    def get_salary(self):\n",
        "        return self.__salary\n",
        "\n",
        "    # Setter (modify private data safely)\n",
        "    def set_salary(self, new_salary):\n",
        "        if new_salary > 0:\n",
        "            self.__salary = new_salary\n",
        "        else:\n",
        "            print(\"Invalid salary!\")\n",
        "\n",
        "emp = Employee(\"Akash\", 50000)\n",
        "\n",
        "# Public access\n",
        "print(emp.name)            # Akash\n",
        "\n",
        "# Protected (can be accessed but not recommended)\n",
        "print(emp._department)     # HR\n",
        "\n",
        "# Private (not directly accessible)\n",
        "# print(emp.__salary)  causes AttributeError\n",
        "\n",
        "# Correct way: use getter/setter\n",
        "print(emp.get_salary())\n",
        "emp.set_salary(60000)\n",
        "print(emp.get_salary())\n"
      ],
      "metadata": {
        "id": "DOH7ymO55JrP",
        "colab": {
          "base_uri": "https://localhost:8080/"
        },
        "outputId": "0b7c92d4-8023-4322-e124-81eb17553980"
      },
      "execution_count": null,
      "outputs": [
        {
          "output_type": "stream",
          "name": "stdout",
          "text": [
            "Akash\n",
            "HR\n",
            "50000\n",
            "60000\n"
          ]
        }
      ]
    },
    {
      "cell_type": "markdown",
      "source": [
        "9. What is a constructor in Python?\n",
        "- A constructor is a special method in Python used to initialize objects when they are created from a class.\n",
        "- In Python, the constructor is always named `__init__`.\n",
        "- It runs automatically when you create an object (no need to call it manually).\n",
        "- **Syntax:**"
      ],
      "metadata": {
        "id": "K5zXCryolhhg"
      }
    },
    {
      "cell_type": "code",
      "source": [
        "class ClassName:\n",
        "    def __init__(self, parameters):\n",
        "        # initialization code\n"
      ],
      "metadata": {
        "id": "WwjxTP-lnM2B"
      },
      "execution_count": null,
      "outputs": []
    },
    {
      "cell_type": "markdown",
      "source": [
        "✅Example: Simple Constructor"
      ],
      "metadata": {
        "id": "b0G5XPbQnY7j"
      }
    },
    {
      "cell_type": "code",
      "source": [
        "class Person:\n",
        "    def __init__(self, name, age):  # constructor\n",
        "        self.name = name            # instance variable\n",
        "        self.age = age\n",
        "\n",
        "# Object creation automatically calls constructor\n",
        "p1 = Person(\"Akash\", 22)\n",
        "p2 = Person(\"Rahul\", 25)\n",
        "\n",
        "print(p1.name, p1.age)\n",
        "print(p2.name, p2.age)"
      ],
      "metadata": {
        "colab": {
          "base_uri": "https://localhost:8080/"
        },
        "id": "uPPaMpd3ns1b",
        "outputId": "2a223f23-7b38-4bcf-b9b2-e0991f1e40b9"
      },
      "execution_count": null,
      "outputs": [
        {
          "output_type": "stream",
          "name": "stdout",
          "text": [
            "Akash 22\n",
            "Rahul 25\n"
          ]
        }
      ]
    },
    {
      "cell_type": "markdown",
      "source": [
        "10. What are class and static methods in Python?\n",
        "- **Class Method**:\n",
        "- Defined using `@classmethod` decorator.\n",
        "- Take `cls` (class itself) as the first arguments.\n",
        "- Works with class variables (shared by all the objects).\n",
        "- Example:\n"
      ],
      "metadata": {
        "id": "zHjhQxYDohnx"
      }
    },
    {
      "cell_type": "code",
      "source": [
        "class Student:\n",
        "  school = \"ABC School\"           #class variable\n",
        "  def __init__(self, name):\n",
        "    self.name = name\n",
        "\n",
        "  @classmethod\n",
        "  def get_school(cls):            #class method\n",
        "    return cls.school\n",
        "\n",
        "print(Student.get_school())"
      ],
      "metadata": {
        "colab": {
          "base_uri": "https://localhost:8080/"
        },
        "id": "2c0-JjO4nX36",
        "outputId": "e58a4f0e-dce3-440f-e01a-3c4cb56062b0"
      },
      "execution_count": null,
      "outputs": [
        {
          "output_type": "stream",
          "name": "stdout",
          "text": [
            "ABC School\n"
          ]
        }
      ]
    },
    {
      "cell_type": "markdown",
      "source": [
        "- **Static Method:**"
      ],
      "metadata": {
        "id": "KcxFaTZQmjhm"
      }
    },
    {
      "cell_type": "markdown",
      "source": [
        "- Defined using `@staticmethod` decorator.\n",
        "- Does not take `self` or `cls` as the first argument.\n",
        "- Used as helper function which is not depend on class or object.\n",
        "- Example:"
      ],
      "metadata": {
        "id": "NHk20nCrr-yU"
      }
    },
    {
      "cell_type": "code",
      "source": [
        "class Math:\n",
        "  @staticmethod\n",
        "  def add(a, b):\n",
        "    return a + b\n",
        "\n",
        "print(Math.add(2, 3))"
      ],
      "metadata": {
        "colab": {
          "base_uri": "https://localhost:8080/"
        },
        "id": "6QxCNe9hsvmw",
        "outputId": "735b4929-e29d-4472-ad78-f59ce7518737"
      },
      "execution_count": null,
      "outputs": [
        {
          "output_type": "stream",
          "name": "stdout",
          "text": [
            "5\n"
          ]
        }
      ]
    },
    {
      "cell_type": "markdown",
      "source": [
        "11. What is method overloading in Python?\n",
        "- Method overloading means having multiple method with the same name but different parameter list.\n",
        "- In python true method overloading is not suported.\n",
        "- If you defines multiple method with the same name, the last method overrides earlier one.\n",
        "- Example:"
      ],
      "metadata": {
        "id": "nJmEWGlQtDVi"
      }
    },
    {
      "cell_type": "code",
      "source": [
        "class Demo:\n",
        "  def greet(self, name):\n",
        "    print(\"Hello\", name)\n",
        "\n",
        "  def greet(self):                 #This overrides the first method\n",
        "    print(\"Hello with out name\")\n",
        "\n",
        "d = Demo()\n",
        "d.greet()\n",
        "# d.greet(\"Akash\") -  causing TypeError"
      ],
      "metadata": {
        "colab": {
          "base_uri": "https://localhost:8080/"
        },
        "id": "PfBGO0mOuuSD",
        "outputId": "73d940d5-0925-4e38-8a2e-c8c79219040b"
      },
      "execution_count": null,
      "outputs": [
        {
          "output_type": "stream",
          "name": "stdout",
          "text": [
            "Hello with out name\n"
          ]
        }
      ]
    },
    {
      "cell_type": "markdown",
      "source": [
        "12.  What is method overriding in OOP?\n",
        "- Method overriding happens when a child class defines a method with same name and parameter as method in parent class but provides a different implementation.\n",
        "- It allows to child class to customize or or completely replace the parent class method's behavior.\n",
        "- Example:\n"
      ],
      "metadata": {
        "id": "bpNOrdNmvpGB"
      }
    },
    {
      "cell_type": "code",
      "source": [
        "class Animal:\n",
        "  def sound(self):                 #parent method\n",
        "    print(\"Animal make sound.\")\n",
        "\n",
        "class Dog:                          #overriding parent method\n",
        "  def sound(self):\n",
        "    print(\"Bark\")\n",
        "\n",
        "#testing\n",
        "a = Animal()\n",
        "a.sound()\n",
        "\n",
        "d = Dog()\n",
        "d.sound()"
      ],
      "metadata": {
        "colab": {
          "base_uri": "https://localhost:8080/"
        },
        "id": "At0RrNLWys07",
        "outputId": "e03c54ce-b45c-4fa4-a847-97567322c6a6"
      },
      "execution_count": null,
      "outputs": [
        {
          "output_type": "stream",
          "name": "stdout",
          "text": [
            "Animal make sound.\n",
            "Bark\n"
          ]
        }
      ]
    },
    {
      "cell_type": "markdown",
      "source": [
        "- `Dog` overrides the `sound()` method of `Animal`.\n",
        "- Same method name and parameter but different behaviour>"
      ],
      "metadata": {
        "id": "AlZBPVC_zik_"
      }
    },
    {
      "cell_type": "markdown",
      "source": [
        "13. What is a property decorator in Python?\n",
        "- The @property decorator in Python used to defines gettters, setters, deleters in a Pythonic way (without calling method expicilitly).\n",
        "- It allows you to access methods like attributes, which improves readability and encapsulation.\n",
        "- Example:\n"
      ],
      "metadata": {
        "id": "eDDJpAoj0CYq"
      }
    },
    {
      "cell_type": "code",
      "source": [
        "class Person:\n",
        "  def __init__(self, name):\n",
        "    self._name = name\n",
        "\n",
        "  @property\n",
        "  def name(self):                  #getter\n",
        "    return self._name\n",
        "\n",
        "p = Person(\"Akash\")\n",
        "print(p.name)                   #Looks like attribute, but calls method internally."
      ],
      "metadata": {
        "colab": {
          "base_uri": "https://localhost:8080/"
        },
        "id": "1mfVC_6Zs4v7",
        "outputId": "7b436e4c-6243-4718-c5c3-b1bbdee95496"
      },
      "execution_count": null,
      "outputs": [
        {
          "output_type": "stream",
          "name": "stdout",
          "text": [
            "Akash\n"
          ]
        }
      ]
    },
    {
      "cell_type": "markdown",
      "source": [
        "✅ Adding Setter:"
      ],
      "metadata": {
        "id": "j6pqXnMP3btF"
      }
    },
    {
      "cell_type": "code",
      "source": [
        "class Person:\n",
        "  def __init__(self, name):\n",
        "    self._name = name\n",
        "\n",
        "  @property\n",
        "  def name(self):                  #getter\n",
        "    return self._name\n",
        "\n",
        "  @name.setter\n",
        "  def name(self, value):            #setter\n",
        "     if len(value) < 3:\n",
        "         raise ValueError(\"Name must be at least 3 characters\")\n",
        "     self._name = value\n",
        "p = Person(\"Akash\")\n",
        "print(p.name)   # Calls getter → Akash\n",
        "\n",
        "p.name = \"Raj\"  # Calls setter\n",
        "print(p.name)   # Raj\n",
        "\n",
        "# p.name = \"A\"  # ❌ ValueError\n"
      ],
      "metadata": {
        "colab": {
          "base_uri": "https://localhost:8080/"
        },
        "id": "dORchwj33o5I",
        "outputId": "47053c0c-7698-4320-a7e1-05d5a71d3b6b"
      },
      "execution_count": null,
      "outputs": [
        {
          "output_type": "stream",
          "name": "stdout",
          "text": [
            "Akash\n",
            "Raj\n"
          ]
        }
      ]
    },
    {
      "cell_type": "markdown",
      "source": [
        "✅ Adding Deleter"
      ],
      "metadata": {
        "id": "dNs-vIPY5isB"
      }
    },
    {
      "cell_type": "code",
      "source": [
        "class Person:\n",
        "  def __init__(self, name):\n",
        "    self._name = name\n",
        "\n",
        "  @property\n",
        "  def name(self):                  #getter\n",
        "    return self._name\n",
        "\n",
        "  @name.deleter\n",
        "  def name(self):\n",
        "    print(\"Deleting name ...\")\n",
        "    del self._name\n",
        "\n",
        "p = Person(\"Akash\")\n",
        "print(p.name)\n",
        "del p.name"
      ],
      "metadata": {
        "colab": {
          "base_uri": "https://localhost:8080/"
        },
        "id": "8KRZy4iM5fIp",
        "outputId": "5a65898a-f482-4e9f-a0b4-afda68441937"
      },
      "execution_count": null,
      "outputs": [
        {
          "output_type": "stream",
          "name": "stdout",
          "text": [
            "Akash\n",
            "Deleting name ...\n"
          ]
        }
      ]
    },
    {
      "cell_type": "markdown",
      "source": [
        "14. Why is polymorphism important in OOP?\n",
        "- Polymorphism is important in python  because it allows flexibility,  reusability, sacalability by inabling the same inter to work differently depending upon the object."
      ],
      "metadata": {
        "id": "8oSOpU5U6uqX"
      }
    },
    {
      "cell_type": "markdown",
      "source": [
        "15. What is an abstract class in Python?\n",
        "- An abstract class is a class with one or more abstract method(not implemented). It is defined using the abc module and cannot be instantiated directly."
      ],
      "metadata": {
        "id": "JYHcB_5EaEUa"
      }
    },
    {
      "cell_type": "code",
      "source": [
        "from abc import ABC, abstractmethod\n",
        "\n",
        "class Shape(ABC):\n",
        "  @abstractmethod\n",
        "  def area(self):\n",
        "     pass"
      ],
      "metadata": {
        "id": "9MkN85IMbPdr"
      },
      "execution_count": null,
      "outputs": []
    },
    {
      "cell_type": "markdown",
      "source": [
        "16. What are the advantages of OOP?\n",
        "- Reusablity\n",
        "- Modularity\n",
        "- Security\n",
        "- Easy Maintenance\n",
        "- Scalability"
      ],
      "metadata": {
        "id": "CD9M5norbuQF"
      }
    },
    {
      "cell_type": "markdown",
      "source": [
        "17.  What is the difference between a class variable and an instance variable?\n",
        "-  **Class Variable**: A variable which is  shared by all object of the class.\n",
        "- **Instance Variable** : A variable which is unique for all objects presnt in the class.\n",
        "- Example:"
      ],
      "metadata": {
        "id": "2L-5Xezscfs5"
      }
    },
    {
      "cell_type": "code",
      "source": [
        "class Student:\n",
        "  school = \"ABC\"                  #class variable\n",
        "  def __init__(self, name):\n",
        "    self.name = name              #instance variable"
      ],
      "metadata": {
        "id": "QQuve67Gdldm"
      },
      "execution_count": null,
      "outputs": []
    },
    {
      "cell_type": "markdown",
      "source": [
        "18. What is multiple inheritance in Python?\n",
        "- When a child class inherits property from mare than one parent.\n",
        "- Example:"
      ],
      "metadata": {
        "id": "Pg7eGuMieCtZ"
      }
    },
    {
      "cell_type": "code",
      "source": [
        "class Father:\n",
        "    def skill(self):\n",
        "        return \"Gardening\"\n",
        "\n",
        "class Mother:\n",
        "    def skill(self):\n",
        "        return \"Cooking\"\n",
        "\n",
        "class Child(Father, Mother):  # inherits both\n",
        "    pass\n",
        "\n",
        "c = Child()\n",
        "print(c.skill())\n"
      ],
      "metadata": {
        "colab": {
          "base_uri": "https://localhost:8080/"
        },
        "outputId": "eb02839f-b2dd-4051-d0c6-d305b3accbfb",
        "id": "Yyz0PCRFe-cK"
      },
      "execution_count": null,
      "outputs": [
        {
          "output_type": "stream",
          "name": "stdout",
          "text": [
            "Gardening\n"
          ]
        }
      ]
    },
    {
      "cell_type": "markdown",
      "source": [
        "19. Explain the purpose of `__str__` and `__repr__` methods in Python?\n",
        "- `__str__` is used for user friendly output.\n",
        "- `__repr__` is used for devloper debugging output.\n",
        "\n"
      ],
      "metadata": {
        "id": "6GinhJAXfC8e"
      }
    },
    {
      "cell_type": "code",
      "source": [
        "class Student:\n",
        "    def __init__(self, name):\n",
        "        self.name = name\n",
        "    def __str__(self):\n",
        "        return f\"Student: {self.name}\"\n",
        "    def __repr__(self):\n",
        "        return f\"Student('{self.name}')\"\n",
        "\n",
        "s = Student(\"Akash\")\n",
        "print(str(s))\n",
        "print(repr(s))\n"
      ],
      "metadata": {
        "colab": {
          "base_uri": "https://localhost:8080/"
        },
        "id": "RB9fYEDhfylD",
        "outputId": "a772307f-38d7-4a46-86da-55e66c089286"
      },
      "execution_count": null,
      "outputs": [
        {
          "output_type": "stream",
          "name": "stdout",
          "text": [
            "Student: Akash\n",
            "Student('Akash')\n"
          ]
        }
      ]
    },
    {
      "cell_type": "markdown",
      "source": [
        "20. What is the significance of the `super()` function in Python?\n",
        "- It is used to call prent class method into child class.\n",
        "- Example:"
      ],
      "metadata": {
        "id": "BYJnxXK5gRQV"
      }
    },
    {
      "cell_type": "code",
      "source": [
        "class Parent:\n",
        "  def greet(self):\n",
        "    print(\"Hello from parent\")\n",
        "\n",
        "class Child(Parent):\n",
        "  def greet(self):\n",
        "    super().greet()\n",
        "    print(\"Hello from child\")\n",
        "\n",
        "c = Child()\n",
        "c.greet()"
      ],
      "metadata": {
        "colab": {
          "base_uri": "https://localhost:8080/"
        },
        "id": "57RqIrgjaDhS",
        "outputId": "8e6c5b60-ebd8-4f85-ab12-9225029b8756"
      },
      "execution_count": null,
      "outputs": [
        {
          "output_type": "stream",
          "name": "stdout",
          "text": [
            "Hello from parent\n",
            "Hello from child\n"
          ]
        }
      ]
    },
    {
      "cell_type": "markdown",
      "source": [
        "21. What is the significance of the `__del__` method in Python?\n",
        "- Destructor method called when a object is deleted.\n",
        "- Example:"
      ],
      "metadata": {
        "id": "5SX4BxXVhxSs"
      }
    },
    {
      "cell_type": "code",
      "source": [
        "class Example:\n",
        "  def __del__(self):\n",
        "    print(\"Object destroyed\")\n",
        "\n",
        "e = Example()\n",
        "del e"
      ],
      "metadata": {
        "colab": {
          "base_uri": "https://localhost:8080/"
        },
        "id": "cGwQQMwyiTNJ",
        "outputId": "ac259a5a-402e-456d-ba25-aa3fa65c77a2"
      },
      "execution_count": null,
      "outputs": [
        {
          "output_type": "stream",
          "name": "stdout",
          "text": [
            "Object destroyed\n"
          ]
        }
      ]
    },
    {
      "cell_type": "markdown",
      "source": [
        "22. What is the difference between @staticmethod and @classmethod in Python?\n",
        "- `@staticmethod`:\n",
        "- Does not take self or cls as the first argument.\n",
        "- Used as helper function which is not depend on class or object.\n",
        "\n",
        "- `@classmethod`:\n",
        "- Take cls (class itself) as the first arguments.\n",
        "- Works with class variables (shared by all the objects)."
      ],
      "metadata": {
        "id": "DjBWUYNqivke"
      }
    },
    {
      "cell_type": "markdown",
      "source": [
        "23. How does polymorphism work in Python with inheritance?\n",
        "- Child classes override parent methods with different behavior."
      ],
      "metadata": {
        "id": "Q9_DkepQo9tM"
      }
    },
    {
      "cell_type": "code",
      "source": [
        "class Animal:\n",
        "    def sound(self): pass\n",
        "\n",
        "class Dog(Animal):\n",
        "    def sound(self): return \"Bark\"\n",
        "\n",
        "class Cat(Animal):\n",
        "    def sound(self): return \"Meow\"\n",
        "\n",
        "#shows polymorphic behavior\n",
        "for pet in [Dog(), Cat()]:\n",
        "    print(pet.sound())\n",
        "\n"
      ],
      "metadata": {
        "id": "wJzufIx7p8Bn"
      },
      "execution_count": null,
      "outputs": []
    },
    {
      "cell_type": "markdown",
      "source": [
        "24.  What is method chaining in Python OOP?\n",
        "- Chaining means calling multiplr mrthod in single line by returning self.\n",
        "- Example:"
      ],
      "metadata": {
        "id": "jbE6qzxKrrgT"
      }
    },
    {
      "cell_type": "code",
      "source": [
        "class Calculator:\n",
        "  def __init__(self, value = 0):\n",
        "    self.value = value\n",
        "  def add(self, n):\n",
        "      self.value += n\n",
        "      return self\n",
        "  def substract( self, n):\n",
        "      self.value -= n\n",
        "      return self\n",
        "\n",
        "c = Calculator()\n",
        "print(c.add(10).substract(3).value)"
      ],
      "metadata": {
        "colab": {
          "base_uri": "https://localhost:8080/"
        },
        "id": "OvkgUgNIlwoB",
        "outputId": "a6036177-7260-4aff-cea3-f95ef09c9657"
      },
      "execution_count": null,
      "outputs": [
        {
          "output_type": "stream",
          "name": "stdout",
          "text": [
            "7\n"
          ]
        }
      ]
    },
    {
      "cell_type": "markdown",
      "source": [
        "25. What is the purpose of the `__call__` method in Python?\n",
        "- This mathod make a object callable like function.\n",
        "- Example:"
      ],
      "metadata": {
        "id": "p0dmbaObnEqA"
      }
    },
    {
      "cell_type": "code",
      "source": [
        "class Greet():\n",
        "  def __call__(self, name):\n",
        "    return f\"Hello {name}\"\n",
        "\n",
        "\n",
        "g = Greet()\n",
        "print(g(\"Akash\"))\n"
      ],
      "metadata": {
        "colab": {
          "base_uri": "https://localhost:8080/"
        },
        "id": "Lh1BXJrfneob",
        "outputId": "2ed57651-f15f-45b6-b8af-921868c34f32"
      },
      "execution_count": null,
      "outputs": [
        {
          "output_type": "stream",
          "name": "stdout",
          "text": [
            "Hello Akash\n"
          ]
        }
      ]
    },
    {
      "cell_type": "markdown",
      "source": [
        "# Practical Questions :"
      ],
      "metadata": {
        "id": "TxJssP7poES1"
      }
    },
    {
      "cell_type": "code",
      "source": [
        "#1. Create a parent class Animal with a method speak() that prints a generic message. Create a child class Dog\n",
        "#that overrides the speak() method to print \"Bark!\".\n",
        "\n",
        "#Parent Class\n",
        "class Animal:\n",
        "  def speak(self):\n",
        "    print(\" This is a generic animal sound.\")\n",
        "\n",
        "#Child class\n",
        "class Dog(Animal):           #overriding the parent method\n",
        "  def speak(self):\n",
        "    print(\"Bark!\")\n",
        "\n",
        "a = Animal()\n",
        "d = Dog()\n",
        "\n",
        "a.speak()\n",
        "d.speak()"
      ],
      "metadata": {
        "colab": {
          "base_uri": "https://localhost:8080/"
        },
        "id": "mkA4jjXToNYV",
        "outputId": "edc5b353-af11-40e5-b7ae-2218cd46888e"
      },
      "execution_count": null,
      "outputs": [
        {
          "output_type": "stream",
          "name": "stdout",
          "text": [
            " This is a generic animal sound.\n",
            "Bark!\n"
          ]
        }
      ]
    },
    {
      "cell_type": "code",
      "source": [
        "#2.Write a program to create an abstract class Shape with a method area(). Derive classes Circle and Rectangle\n",
        "#  from it and implement the area() method in both.\n",
        "\n",
        "from abc import ABC, abstractmethod\n",
        "import math\n",
        "\n",
        "#Abstract class\n",
        "class Shape(ABC):\n",
        "  @abstractmethod\n",
        "  def area(self):\n",
        "    pass\n",
        "\n",
        "#Derive class Circle\n",
        "class Circle(Shape):\n",
        "  def __init__(self, radius):\n",
        "    self.radius = radius\n",
        "\n",
        "  def area(self):\n",
        "    return math.pi* self.radius**2\n",
        "\n",
        "#Derive class Rectangle\n",
        "class Rectangle(Shape):\n",
        "  def __init__(self, length, width):\n",
        "    self.length = length\n",
        "    self.width = width\n",
        "\n",
        "  def area(self):\n",
        "    return self.length * self.length\n",
        "\n",
        "# Create objects\n",
        "c = Circle(6)\n",
        "r = Rectangle(7, 8)\n",
        "\n",
        "# Method calls\n",
        "print(c.area())\n",
        "print(r.area())"
      ],
      "metadata": {
        "colab": {
          "base_uri": "https://localhost:8080/"
        },
        "id": "YhQbN6Sxq0l3",
        "outputId": "8dbf2fdc-6f4e-4769-8652-078627967c3c"
      },
      "execution_count": null,
      "outputs": [
        {
          "output_type": "stream",
          "name": "stdout",
          "text": [
            "113.09733552923255\n",
            "49\n"
          ]
        }
      ]
    },
    {
      "cell_type": "code",
      "source": [
        "#3.Implement a multi-level inheritance scenario where a class Vehicle has an attribute type. Derive a class Car\n",
        "#  and further derive a class ElectricCar that adds a battery attribute.\n",
        "\n",
        "#Base class\n",
        "class Vehicle:\n",
        "  def __init__(self, vehicle_type):\n",
        "    self.vehicle_type = vehicle_type\n",
        "\n",
        "  def show_type(self):\n",
        "    print(f\"Vehicle Type: {self.vehicle_type}\")\n",
        "\n",
        "# Derived class\n",
        "class Car(Vehicle):\n",
        "  def __init__(self, vehicle_type, brand):\n",
        "    super().__init__(vehicle_type)\n",
        "    self.brand = brand\n",
        "\n",
        "  def show_brand(self):\n",
        "    print(f\"Car Brand: {self.brand}\")\n",
        "\n",
        "#Furthur derived class\n",
        "class Electric_Car(Car):\n",
        "  def __init__(self, vehicle_type, brand, battery):\n",
        "    super().__init__(vehicle_type, brand)\n",
        "    self.battery = battery\n",
        "\n",
        "  def shows_details(self):\n",
        "    self.show_type()\n",
        "    self.show_brand()\n",
        "    print(f\"Battery Capacity: {self.battery} kWh\")\n",
        "\n",
        "#creates object\n",
        "ec = Electric_Car(\"Four Wheeler\", \"Tesla\", 75)\n",
        "\n",
        "#Display details\n",
        "ec.shows_details()\n"
      ],
      "metadata": {
        "colab": {
          "base_uri": "https://localhost:8080/"
        },
        "id": "aRc9nluctxm2",
        "outputId": "ce668c1b-c034-4d8f-c0cd-ab1109199648"
      },
      "execution_count": null,
      "outputs": [
        {
          "output_type": "stream",
          "name": "stdout",
          "text": [
            "Vehicle Type: Four Wheeler\n",
            "Car Brand: Tesla\n",
            "Battery Capacity: 75 kWh\n"
          ]
        }
      ]
    },
    {
      "cell_type": "code",
      "source": [
        "#4.Demonstrate polymorphism by creating a base class Bird with a method fly(). Create two derived classes\n",
        "#  Sparrow and Penguin that override the fly() method.\n",
        "\n",
        "#Basic class\n",
        "class Bird:\n",
        "  def fly(self):\n",
        "    print(\"Bird is fly in generic way\")\n",
        "\n",
        "#Derived class Bird\n",
        "class Sparrow(Bird):\n",
        "  def fly(self):\n",
        "    print(\"Sparrow fly high in the sky!\")\n",
        "\n",
        "#Derived class Panguin\n",
        "class Panguin(Bird):\n",
        "  def fly(self):\n",
        "    print(\"Panguin cannot fly, they swim instead\")\n",
        "\n",
        "#Polymorphism in action\n",
        "birds = [Sparrow(), Panguin()]\n",
        "for bird in birds:\n",
        "  bird.fly()\n",
        "\n",
        "\n",
        "\n",
        "\n",
        "\n"
      ],
      "metadata": {
        "colab": {
          "base_uri": "https://localhost:8080/"
        },
        "id": "WhgPvDwB8AGx",
        "outputId": "8bd48097-7198-4a6a-ef83-290833dc038d"
      },
      "execution_count": null,
      "outputs": [
        {
          "output_type": "stream",
          "name": "stdout",
          "text": [
            "Sparrow fly high in the sky!\n",
            "Panguin cannot fly, they swim instead\n"
          ]
        }
      ]
    },
    {
      "cell_type": "code",
      "source": [
        "#5.Write a program to demonstrate encapsulation by creating a class BankAccount with private attributes\n",
        "# balance and methods to deposit, withdraw, and check balance.\n",
        "class BankAccount:\n",
        "  def __init__(self, balance):\n",
        "    self.__balance = balance         #private attribute\n",
        "\n",
        "#method of deposit money\n",
        "  def deposit(self,amount):\n",
        "    if amount > 0:\n",
        "      self.__balance +=amount\n",
        "      print(f\"Deposited: {amount}\")\n",
        "    else:\n",
        "      print(\"Invalid deposited amount.\")\n",
        "\n",
        "#Method of withdraw money\n",
        "  def withdraw(self, amount):\n",
        "    if amount > 0 and amount <= self.__balance:\n",
        "      self.__balance -= amount\n",
        "      print(f\"Withdrawn: {amount}\")\n",
        "    else:\n",
        "      print(\"Insufficient balance or invalid amount.\")\n",
        "\n",
        "#Method to check balance:\n",
        "  def get_balance(self):\n",
        "    return self.__balance\n",
        "\n",
        "#Create object\n",
        "acc = BankAccount(1000)\n",
        "\n",
        "\n",
        "#perform operation\n",
        "acc.deposit(500)\n",
        "acc.withdraw(100)\n",
        "print(f\"Current Balance\", acc.get_balance())\n"
      ],
      "metadata": {
        "colab": {
          "base_uri": "https://localhost:8080/"
        },
        "id": "Pdh9V8R0_c5l",
        "outputId": "e0f1c3eb-adbc-4a7a-ce58-19ad82dc970f"
      },
      "execution_count": null,
      "outputs": [
        {
          "output_type": "stream",
          "name": "stdout",
          "text": [
            "Deposited: 500\n",
            "Withdrawn: 100\n",
            "Current Balance 1400\n"
          ]
        }
      ]
    },
    {
      "cell_type": "code",
      "source": [
        "#6.Demonstrate runtime polymorphism using a method play() in a base class Instrument. Derive classes Guitar\n",
        "#  and Piano that implement their own version of play().\n",
        "\n",
        "# Base class\n",
        "class Instrument:\n",
        "  def play(self):\n",
        "     print(\"Playing an instrument...\")\n",
        "\n",
        "#Derived class Guitar\n",
        "class Guitar(Instrument):\n",
        "  def play(self):\n",
        "    print(\"Playing guitar...\")\n",
        "\n",
        "#Derived class Piano\n",
        "class Piano(Instrument):\n",
        "  def play(self):\n",
        "    print(\"Playing piano...\")\n",
        "\n",
        "#Polymorphism in action\n",
        "instruments = [Guitar(), Piano()]\n",
        "for instrument in instruments:\n",
        "  instrument.play()"
      ],
      "metadata": {
        "colab": {
          "base_uri": "https://localhost:8080/"
        },
        "id": "c3UEyQpUDZeT",
        "outputId": "d049077d-86e7-48d3-c927-1f84e8bfcc45"
      },
      "execution_count": null,
      "outputs": [
        {
          "output_type": "stream",
          "name": "stdout",
          "text": [
            "Playing guitar...\n",
            "Playing piano...\n"
          ]
        }
      ]
    },
    {
      "cell_type": "code",
      "source": [
        "#7.Create a class MathOperations with a class method add_numbers() to add two numbers and a static\n",
        "#   method subtract_numbers() to subtract two numbers.\n",
        "class MathOperations:\n",
        "  @classmethod\n",
        "  def add_numbers(cls, a, b):\n",
        "    return a + b\n",
        "\n",
        "  @staticmethod\n",
        "  def substract_numbers(a, b):\n",
        "    return a - b\n",
        "\n",
        "sum_result = MathOperations.add_numbers(10, 25)\n",
        "sub_result = MathOperations.substract_numbers(30, 13)\n",
        "\n",
        "print(sum_result)\n",
        "print(sub_result)"
      ],
      "metadata": {
        "colab": {
          "base_uri": "https://localhost:8080/"
        },
        "id": "lH39_nh6Gm1G",
        "outputId": "3273779d-e584-4e9f-9ebd-e01da904ba36"
      },
      "execution_count": null,
      "outputs": [
        {
          "output_type": "stream",
          "name": "stdout",
          "text": [
            "35\n",
            "17\n"
          ]
        }
      ]
    },
    {
      "cell_type": "code",
      "source": [
        "#8.Implement a class Person with a class method to count the total number of persons created.\n",
        "class Person:\n",
        "  count = 0\n",
        "  def __init__(self, name):\n",
        "    self.name = name\n",
        "    Person.count += 1              #Increment count when a object is created.\n",
        "\n",
        "#class method to return total count\n",
        "  @classmethod\n",
        "  def total_person(cls):\n",
        "    return cls.count\n",
        "\n",
        "#creating objects\n",
        "p1 = Person(\"Akash\")\n",
        "p2 = Person(\"Neha\")\n",
        "p3 = Person(\"Aman\")\n",
        "\n",
        "\n",
        "print(Person.total_person())\n"
      ],
      "metadata": {
        "colab": {
          "base_uri": "https://localhost:8080/"
        },
        "id": "XOxO-JIHM3u8",
        "outputId": "18d85e5f-fe7a-43f6-987b-e30d754a784a"
      },
      "execution_count": null,
      "outputs": [
        {
          "output_type": "stream",
          "name": "stdout",
          "text": [
            "3\n"
          ]
        }
      ]
    },
    {
      "cell_type": "code",
      "source": [
        "#9.Write a class Fraction with attributes numerator and denominator. Override the str method to display the\n",
        "#  fraction as \"numerator/denominator\".\n",
        "class Fraction:\n",
        "  def __init__(self, numerator, denominator):\n",
        "    self.numerator = numerator\n",
        "    self.denominator = denominator\n",
        "\n",
        "  # overrideing __str__ method\n",
        "  def __str__(self):\n",
        "    return f\"{self.numerator}/{self.denominator}\"\n",
        "\n",
        "f1 = Fraction(3, 7)\n",
        "f2 = Fraction(4, 9)\n",
        "\n",
        "print(f1)\n",
        "print(f2)"
      ],
      "metadata": {
        "id": "PgCyaCxmO0ds",
        "colab": {
          "base_uri": "https://localhost:8080/"
        },
        "outputId": "adda7b7e-575f-44b6-c038-bc3a5316028c"
      },
      "execution_count": 4,
      "outputs": [
        {
          "output_type": "stream",
          "name": "stdout",
          "text": [
            "3/7\n",
            "4/9\n"
          ]
        }
      ]
    },
    {
      "cell_type": "code",
      "source": [
        "#10. Demonstrate operator overloading by creating a class Vector and overriding the add method to add two\n",
        "  #  vectors.\n",
        "class Vector:\n",
        "  def __init__(self, x, y):\n",
        "    self.x = x\n",
        "    self.y = y\n",
        "\n",
        "  #overloading the add method\n",
        "  def __add__(self, other):\n",
        "    return Vector(self.x + other.x, self.y + other.y)\n",
        "\n",
        "  # string method for easy display\n",
        "  def __str__(self):\n",
        "    return f\"Vector({self.x}, {self.y})\"\n",
        "\n",
        "#creates two objects\n",
        "v1 = Vector(4, 7)\n",
        "v2 = Vector(5, 3)\n",
        "\n",
        "#added vector using overloaded +\n",
        "v3 = v1 + v2\n",
        "\n",
        "print(\"First vector:\",v1)\n",
        "print(\"Second vector:\",v2)\n",
        "print(\"Resultant vector:\",v3)\n"
      ],
      "metadata": {
        "colab": {
          "base_uri": "https://localhost:8080/"
        },
        "id": "qk0IA_KTq1rJ",
        "outputId": "dee05ccc-983e-45c5-bb06-03e073549126"
      },
      "execution_count": 13,
      "outputs": [
        {
          "output_type": "stream",
          "name": "stdout",
          "text": [
            "First vector: Vector(4, 7)\n",
            "Second vector: Vector(5, 3)\n",
            "Resultant vector: Vector(9, 10)\n"
          ]
        }
      ]
    },
    {
      "cell_type": "code",
      "source": [
        "#11.Create a class Person with attributes name and age. Add a method greet() that prints \"Hello, my name is\n",
        "#  {name} and I am {age} years old.\"\n",
        "class Person:\n",
        "  def __init__(self, name, age):\n",
        "    self.name = name\n",
        "    self.age = age\n",
        "\n",
        "#add a method greet\n",
        "  def greet(self):\n",
        "    return f\"Hello, my name is {self.name} and I am {self.age} years old.\"\n",
        "\n",
        "p1 = Person(\"Akash\", 21)\n",
        "print(p1.greet())\n"
      ],
      "metadata": {
        "colab": {
          "base_uri": "https://localhost:8080/"
        },
        "id": "ksNBlvp7v25E",
        "outputId": "d7e327c2-ce40-4a7b-a407-01dbf52b11f1"
      },
      "execution_count": 15,
      "outputs": [
        {
          "output_type": "stream",
          "name": "stdout",
          "text": [
            "Hello, my name is Akash and I am 21 years old.\n"
          ]
        }
      ]
    },
    {
      "cell_type": "code",
      "source": [
        "#12. Implement a class Student with attributes name and grades. Create a method average_grade() to compute\n",
        "   # the average of the grades.\n",
        "class Student:\n",
        "     def __init__(self, name, grades):\n",
        "       self.name = name\n",
        "       self.grades = grades\n",
        "\n",
        "     #method to compute the average of grades\n",
        "     def average_grade(self):\n",
        "       return sum(self.grades)/len(self.grades)\n",
        "\n",
        "\n",
        "#creats objects\n",
        "s1 = Student(\"Akash\", [85, 90, 78, 92])\n",
        "s2 = Student(\"Riya\", [88, 76, 95, 80])\n",
        "\n",
        "#Display average grades\n",
        "print(f\"{s1.name}'s average grade: {s1.average_grade()}\")\n",
        "print(f\"{s2.name}'s average grade: {s2.average_grade()}\")\n",
        "\n"
      ],
      "metadata": {
        "colab": {
          "base_uri": "https://localhost:8080/"
        },
        "id": "Ur5msX2KxW3e",
        "outputId": "12f81e04-d9d7-4ac5-a654-34780e9008e5"
      },
      "execution_count": 18,
      "outputs": [
        {
          "output_type": "stream",
          "name": "stdout",
          "text": [
            "Akash's average grade: 86.25\n",
            "Riya's average grade: 84.75\n"
          ]
        }
      ]
    },
    {
      "cell_type": "code",
      "source": [
        "#13. Create a class Rectangle with methods set_dimensions() to set the dimensions and area() to calculate the\n",
        "    #area.\n",
        "class Rectangle:\n",
        "  def __init__(self):\n",
        "    length = 0\n",
        "    width =0\n",
        "\n",
        "  #Method set_dimension\n",
        "  def set_dimension(self, length, width):\n",
        "    self.length = length\n",
        "    self.width = width\n",
        "\n",
        "  #method to calculate the area\n",
        "  def area(self):\n",
        "    return self.length * self.width\n",
        "\n",
        "#creates object\n",
        "rect = Rectangle()\n",
        "\n",
        "#Set dimension\n",
        "rect.set_dimension(24, 54)\n",
        "\n",
        "#Display area\n",
        "print(\"Length:\", rect.length)\n",
        "print(\"Width:\", rect.width)\n",
        "print(\"Area:\", rect.area())"
      ],
      "metadata": {
        "colab": {
          "base_uri": "https://localhost:8080/"
        },
        "id": "zxVEMQS50uZG",
        "outputId": "5e0d322f-92f8-41c3-ea32-588d077e6556"
      },
      "execution_count": 19,
      "outputs": [
        {
          "output_type": "stream",
          "name": "stdout",
          "text": [
            "Length: 24\n",
            "Width: 54\n",
            "Area: 1296\n"
          ]
        }
      ]
    },
    {
      "cell_type": "code",
      "source": [
        "#14. Create a class Employee with a method calculate_salary() that computes the salary based on hours worked\n",
        "#    and hourly rate. Create a derived class Manager that adds a bonus to the salary.\n",
        "\n",
        "class Employee:\n",
        "  def __init__(self, name, hour_worked, hourly_rate):\n",
        "    self.name = name\n",
        "    self.hour_worked = hour_worked\n",
        "    self.hourly_rate = hourly_rate\n",
        "\n",
        "  #Method to calculate salary\n",
        "  def calculate_salary(self):\n",
        "    return self.hour_worked * self.hourly_rate\n",
        "\n",
        "#Derived class Manager\n",
        "class Manager(Employee):\n",
        "  def __init__(self, name , hour_worked, hourly_rate, bonus):\n",
        "    super().__init__(name, hour_worked, hourly_rate)\n",
        "    self.bonus = bonus\n",
        "\n",
        "  #Override caluclate_salary method\n",
        "  def calculate_salary(self):\n",
        "    base_salary = super().calculate_salary()\n",
        "    return base_salary + self.bonus\n",
        "\n",
        "#Creates object\n",
        "e1 = Employee(\"Akash\", 45, 300)\n",
        "e2 = Manager(\"Neha\",40, 500, 5000 )\n",
        "\n",
        "#Display salaries\n",
        "print(f\"{e1.name}'s salary: {e1.calculate_salary()}\")\n",
        "print(f\"{e2.name}'s salary: {e2.calculate_salary()}\")"
      ],
      "metadata": {
        "colab": {
          "base_uri": "https://localhost:8080/"
        },
        "id": "JnRVH6Wo27lC",
        "outputId": "6930a09d-1a3c-472c-b217-099fc7e2a902"
      },
      "execution_count": 20,
      "outputs": [
        {
          "output_type": "stream",
          "name": "stdout",
          "text": [
            "Akash's salary: 13500\n",
            "Neha's salary: 25000\n"
          ]
        }
      ]
    },
    {
      "cell_type": "code",
      "source": [
        "#15. Create a class Product with attributes name, price, and quantity. Implement a method total_price() that\n",
        "#    calculates the total price of the product.\n",
        "class Product:\n",
        "  def __init__(self,name, price, quantity):\n",
        "    self.name = name\n",
        "    self.price = price\n",
        "    self.quantity = quantity\n",
        "\n",
        "  #Method to calculate total_price\n",
        "  def total_price(self):\n",
        "    return self.price * self.quantity\n",
        "\n",
        "#Creates object\n",
        "p1 = Product(\"Laptop\", 50000, 4)\n",
        "p2 = Product(\"Headphone\", 2000, 10)\n",
        "\n",
        "#Display product with total price\n",
        "print(f\"{p1.name}, Price: {p1.price}, Quantity: {p1.quantity}, Total Price: {p1.total_price()}\")\n",
        "print(f\"{p2.name}, Price: {p2.price}, Quantity: {p2.quantity}, Total Price: {p2.total_price()} \")"
      ],
      "metadata": {
        "colab": {
          "base_uri": "https://localhost:8080/"
        },
        "id": "Iif1jiES_drQ",
        "outputId": "330fa900-b4a3-424c-caca-dc332570dd07"
      },
      "execution_count": 21,
      "outputs": [
        {
          "output_type": "stream",
          "name": "stdout",
          "text": [
            "Laptop, Price: 50000, Quantity: 4, Total Price: 200000\n",
            "Headphone, Price: 2000, Quantity: 10, Total Price: 20000 \n"
          ]
        }
      ]
    },
    {
      "cell_type": "code",
      "source": [
        "#16. Create a class Animal with an abstract method sound(). Create two derived classes Cow and Sheep that\n",
        "#    implement the sound() method.\n",
        "from abc import ABC, abstractmethod\n",
        "\n",
        "#Abstract class\n",
        "class Animal(ABC):\n",
        "  @abstractmethod\n",
        "  def sound(self):\n",
        "    pass\n",
        "\n",
        "#Derived class cow\n",
        "class Cow(Animal):\n",
        "  def sound(self):\n",
        "    print(\"Moo\")\n",
        "\n",
        "#Derived class sheep\n",
        "class Sheep(Animal):\n",
        "  def sound(self):\n",
        "    print(\"Bleat\")\n",
        "\n",
        "#Creates Object\n",
        "animals = [Cow(), Sheep()]\n",
        "\n",
        "#Display animal sounds\n",
        "for animal in animals:\n",
        "  animal.sound()\n"
      ],
      "metadata": {
        "colab": {
          "base_uri": "https://localhost:8080/"
        },
        "id": "payWoKkICPMw",
        "outputId": "15c09b45-bbf5-4d90-b7d2-5684caa39a23"
      },
      "execution_count": 22,
      "outputs": [
        {
          "output_type": "stream",
          "name": "stdout",
          "text": [
            "Moo\n",
            "Bleat\n"
          ]
        }
      ]
    },
    {
      "cell_type": "code",
      "source": [
        "#17. Create a class Book with attributes title, author, and year_published. Add a method get_book_info() that\n",
        "#    returns a formatted string with the book's details.\n",
        "\n",
        "class Book:\n",
        "  def __init__(self, title, author, year_published):\n",
        "    self.title = title\n",
        "    self.author = author\n",
        "    self.year_published = year_published\n",
        "\n",
        "  #Method get_book_info\n",
        "  def get_book_info(self):\n",
        "    return f\"Title: {self.title}\\nAuthor: {self.author}\\nYear Published: {self.year_published}\"\n",
        "\n",
        "#Creates object\n",
        "b1 = Book(\"The Alchemist\", \"Paulo Coelho\", 1988)\n",
        "\n",
        "#Display book information\n",
        "print(b1.get_book_info())"
      ],
      "metadata": {
        "colab": {
          "base_uri": "https://localhost:8080/"
        },
        "id": "Xxp5QJBYEhiQ",
        "outputId": "ba6ab777-33ad-4573-ed27-bd6970d18a4a"
      },
      "execution_count": 24,
      "outputs": [
        {
          "output_type": "stream",
          "name": "stdout",
          "text": [
            "Title: The Alchemist\n",
            "Author: Paulo Coelho\n",
            "Year Published: 1988\n"
          ]
        }
      ]
    },
    {
      "cell_type": "code",
      "source": [
        "#18.Create a class House with attributes address and price. Create a derived class Mansion that adds an\n",
        "#   attribute number_of_rooms.\n",
        "\n",
        "class House:\n",
        "  def __init__(self, address, price):\n",
        "    self.address = address\n",
        "    self.price = price\n",
        "\n",
        "  def get_info(self):\n",
        "        return f\"House located at {self.address}, Price: ₹{self.price}\"\n",
        "\n",
        "#Derived class mansion\n",
        "class Mansion(House):\n",
        "  def __init__(self, address, price, number_of_rooms):\n",
        "    super().__init__(address, price)\n",
        "    self.number_of_rooms = number_of_rooms\n",
        "\n",
        "    def get_info(self):\n",
        "        return f\"Mansion located at {self.address}, Price: ₹{self.price}, Rooms: {self.number_of_rooms}\"\n",
        "\n",
        "#Creates object\n",
        "h1 = House(\"Sector 10, Gurugram\", 7500000)\n",
        "m1 = Mansion(\"Palm Drive, Gurugram\", 25000000, 12)\n",
        "\n",
        "# Display details\n",
        "print(h1.get_info())\n",
        "print(m1.get_info())"
      ],
      "metadata": {
        "colab": {
          "base_uri": "https://localhost:8080/"
        },
        "id": "J0Rdq44EG2UL",
        "outputId": "ac239a50-93f0-46aa-85f3-114bb0d77a70"
      },
      "execution_count": 25,
      "outputs": [
        {
          "output_type": "stream",
          "name": "stdout",
          "text": [
            "House located at Sector 10, Gurugram, Price: ₹7500000\n",
            "House located at Palm Drive, Gurugram, Price: ₹25000000\n"
          ]
        }
      ]
    }
  ]
}